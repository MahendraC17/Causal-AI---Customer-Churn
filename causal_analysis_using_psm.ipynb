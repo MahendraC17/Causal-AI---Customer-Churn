{
 "cells": [
  {
   "cell_type": "code",
   "execution_count": 1,
   "metadata": {},
   "outputs": [],
   "source": [
    "import pandas as pd"
   ]
  },
  {
   "cell_type": "markdown",
   "metadata": {},
   "source": [
    "#### Data-preprocessing"
   ]
  },
  {
   "cell_type": "code",
   "execution_count": 2,
   "metadata": {},
   "outputs": [],
   "source": [
    "df = pd.read_csv('Telco_Customer_Churn_Cleaned_Merged.csv')"
   ]
  },
  {
   "cell_type": "code",
   "execution_count": 3,
   "metadata": {},
   "outputs": [],
   "source": [
    "df.drop(['country', 'state', 'lat_long', 'latitude', 'lat_long', 'longitude', 'customer_status', 'churn_value', 'churn_score', 'cltv', \n",
    "         'churn_category', 'churn_reason'], axis = 1, inplace= True)"
   ]
  },
  {
   "cell_type": "code",
   "execution_count": 4,
   "metadata": {},
   "outputs": [
    {
     "data": {
      "text/plain": [
       "Index(['customer_id', 'gender', 'age', 'under_30', 'senior_citizen', 'married',\n",
       "       'dependents', 'number_of_dependents', 'city', 'zip_code', 'population',\n",
       "       'referred_a_friend', 'number_of_referrals', 'tenure_in_months', 'offer',\n",
       "       'phone_service', 'avg_monthly_long_distance_charges', 'multiple_lines',\n",
       "       'internet_service', 'internet_type', 'avg_monthly_gb_download',\n",
       "       'online_security', 'online_backup', 'device_protection_plan',\n",
       "       'premium_tech_support', 'streaming_tv', 'streaming_movies',\n",
       "       'streaming_music', 'unlimited_data', 'contract', 'paperless_billing',\n",
       "       'payment_method', 'monthly_charge', 'total_charges', 'total_refunds',\n",
       "       'total_extra_data_charges', 'total_long_distance_charges',\n",
       "       'total_revenue', 'satisfaction_score', 'churn_label'],\n",
       "      dtype='object')"
      ]
     },
     "execution_count": 4,
     "metadata": {},
     "output_type": "execute_result"
    }
   ],
   "source": [
    "df.columns"
   ]
  },
  {
   "cell_type": "code",
   "execution_count": 5,
   "metadata": {},
   "outputs": [
    {
     "data": {
      "text/html": [
       "<div>\n",
       "<style scoped>\n",
       "    .dataframe tbody tr th:only-of-type {\n",
       "        vertical-align: middle;\n",
       "    }\n",
       "\n",
       "    .dataframe tbody tr th {\n",
       "        vertical-align: top;\n",
       "    }\n",
       "\n",
       "    .dataframe thead th {\n",
       "        text-align: right;\n",
       "    }\n",
       "</style>\n",
       "<table border=\"1\" class=\"dataframe\">\n",
       "  <thead>\n",
       "    <tr style=\"text-align: right;\">\n",
       "      <th></th>\n",
       "      <th>age</th>\n",
       "      <th>under_30</th>\n",
       "      <th>senior_citizen</th>\n",
       "      <th>married</th>\n",
       "      <th>dependents</th>\n",
       "      <th>number_of_dependents</th>\n",
       "      <th>zip_code</th>\n",
       "      <th>referred_a_friend</th>\n",
       "      <th>number_of_referrals</th>\n",
       "      <th>tenure_in_months</th>\n",
       "      <th>...</th>\n",
       "      <th>unlimited_data</th>\n",
       "      <th>paperless_billing</th>\n",
       "      <th>monthly_charge</th>\n",
       "      <th>total_charges</th>\n",
       "      <th>total_refunds</th>\n",
       "      <th>total_extra_data_charges</th>\n",
       "      <th>total_long_distance_charges</th>\n",
       "      <th>total_revenue</th>\n",
       "      <th>satisfaction_score</th>\n",
       "      <th>churn_label</th>\n",
       "    </tr>\n",
       "  </thead>\n",
       "  <tbody>\n",
       "    <tr>\n",
       "      <th>count</th>\n",
       "      <td>7043.000000</td>\n",
       "      <td>7043.000000</td>\n",
       "      <td>7043.000000</td>\n",
       "      <td>7043.000000</td>\n",
       "      <td>7043.000000</td>\n",
       "      <td>7043.000000</td>\n",
       "      <td>7043.000000</td>\n",
       "      <td>7043.000000</td>\n",
       "      <td>7043.000000</td>\n",
       "      <td>7043.000000</td>\n",
       "      <td>...</td>\n",
       "      <td>7043.000000</td>\n",
       "      <td>7043.000000</td>\n",
       "      <td>7043.000000</td>\n",
       "      <td>7043.000000</td>\n",
       "      <td>7043.000000</td>\n",
       "      <td>7043.000000</td>\n",
       "      <td>7043.000000</td>\n",
       "      <td>7043.000000</td>\n",
       "      <td>7043.000000</td>\n",
       "      <td>7043.000000</td>\n",
       "    </tr>\n",
       "    <tr>\n",
       "      <th>mean</th>\n",
       "      <td>46.509726</td>\n",
       "      <td>0.198921</td>\n",
       "      <td>0.162147</td>\n",
       "      <td>0.483033</td>\n",
       "      <td>0.231010</td>\n",
       "      <td>0.468692</td>\n",
       "      <td>93486.070567</td>\n",
       "      <td>0.457476</td>\n",
       "      <td>1.951867</td>\n",
       "      <td>32.386767</td>\n",
       "      <td>...</td>\n",
       "      <td>0.673719</td>\n",
       "      <td>0.592219</td>\n",
       "      <td>64.761692</td>\n",
       "      <td>2280.381264</td>\n",
       "      <td>1.962182</td>\n",
       "      <td>6.860713</td>\n",
       "      <td>749.099262</td>\n",
       "      <td>3034.379056</td>\n",
       "      <td>3.244924</td>\n",
       "      <td>0.265370</td>\n",
       "    </tr>\n",
       "    <tr>\n",
       "      <th>std</th>\n",
       "      <td>16.750352</td>\n",
       "      <td>0.399217</td>\n",
       "      <td>0.368612</td>\n",
       "      <td>0.499748</td>\n",
       "      <td>0.421508</td>\n",
       "      <td>0.962802</td>\n",
       "      <td>1856.767505</td>\n",
       "      <td>0.498224</td>\n",
       "      <td>3.001199</td>\n",
       "      <td>24.542061</td>\n",
       "      <td>...</td>\n",
       "      <td>0.468885</td>\n",
       "      <td>0.491457</td>\n",
       "      <td>30.090047</td>\n",
       "      <td>2266.220462</td>\n",
       "      <td>7.902614</td>\n",
       "      <td>25.104978</td>\n",
       "      <td>846.660055</td>\n",
       "      <td>2865.204542</td>\n",
       "      <td>1.201657</td>\n",
       "      <td>0.441561</td>\n",
       "    </tr>\n",
       "    <tr>\n",
       "      <th>min</th>\n",
       "      <td>19.000000</td>\n",
       "      <td>0.000000</td>\n",
       "      <td>0.000000</td>\n",
       "      <td>0.000000</td>\n",
       "      <td>0.000000</td>\n",
       "      <td>0.000000</td>\n",
       "      <td>90001.000000</td>\n",
       "      <td>0.000000</td>\n",
       "      <td>0.000000</td>\n",
       "      <td>1.000000</td>\n",
       "      <td>...</td>\n",
       "      <td>0.000000</td>\n",
       "      <td>0.000000</td>\n",
       "      <td>18.250000</td>\n",
       "      <td>18.800000</td>\n",
       "      <td>0.000000</td>\n",
       "      <td>0.000000</td>\n",
       "      <td>0.000000</td>\n",
       "      <td>21.360000</td>\n",
       "      <td>1.000000</td>\n",
       "      <td>0.000000</td>\n",
       "    </tr>\n",
       "    <tr>\n",
       "      <th>25%</th>\n",
       "      <td>32.000000</td>\n",
       "      <td>0.000000</td>\n",
       "      <td>0.000000</td>\n",
       "      <td>0.000000</td>\n",
       "      <td>0.000000</td>\n",
       "      <td>0.000000</td>\n",
       "      <td>92101.000000</td>\n",
       "      <td>0.000000</td>\n",
       "      <td>0.000000</td>\n",
       "      <td>9.000000</td>\n",
       "      <td>...</td>\n",
       "      <td>0.000000</td>\n",
       "      <td>0.000000</td>\n",
       "      <td>35.500000</td>\n",
       "      <td>400.150000</td>\n",
       "      <td>0.000000</td>\n",
       "      <td>0.000000</td>\n",
       "      <td>70.545000</td>\n",
       "      <td>605.610000</td>\n",
       "      <td>3.000000</td>\n",
       "      <td>0.000000</td>\n",
       "    </tr>\n",
       "    <tr>\n",
       "      <th>50%</th>\n",
       "      <td>46.000000</td>\n",
       "      <td>0.000000</td>\n",
       "      <td>0.000000</td>\n",
       "      <td>0.000000</td>\n",
       "      <td>0.000000</td>\n",
       "      <td>0.000000</td>\n",
       "      <td>93518.000000</td>\n",
       "      <td>0.000000</td>\n",
       "      <td>0.000000</td>\n",
       "      <td>29.000000</td>\n",
       "      <td>...</td>\n",
       "      <td>1.000000</td>\n",
       "      <td>1.000000</td>\n",
       "      <td>70.350000</td>\n",
       "      <td>1394.550000</td>\n",
       "      <td>0.000000</td>\n",
       "      <td>0.000000</td>\n",
       "      <td>401.440000</td>\n",
       "      <td>2108.640000</td>\n",
       "      <td>3.000000</td>\n",
       "      <td>0.000000</td>\n",
       "    </tr>\n",
       "    <tr>\n",
       "      <th>75%</th>\n",
       "      <td>60.000000</td>\n",
       "      <td>0.000000</td>\n",
       "      <td>0.000000</td>\n",
       "      <td>1.000000</td>\n",
       "      <td>0.000000</td>\n",
       "      <td>0.000000</td>\n",
       "      <td>95329.000000</td>\n",
       "      <td>1.000000</td>\n",
       "      <td>3.000000</td>\n",
       "      <td>55.000000</td>\n",
       "      <td>...</td>\n",
       "      <td>1.000000</td>\n",
       "      <td>1.000000</td>\n",
       "      <td>89.850000</td>\n",
       "      <td>3786.600000</td>\n",
       "      <td>0.000000</td>\n",
       "      <td>0.000000</td>\n",
       "      <td>1191.100000</td>\n",
       "      <td>4801.145000</td>\n",
       "      <td>4.000000</td>\n",
       "      <td>1.000000</td>\n",
       "    </tr>\n",
       "    <tr>\n",
       "      <th>max</th>\n",
       "      <td>80.000000</td>\n",
       "      <td>1.000000</td>\n",
       "      <td>1.000000</td>\n",
       "      <td>1.000000</td>\n",
       "      <td>1.000000</td>\n",
       "      <td>9.000000</td>\n",
       "      <td>96150.000000</td>\n",
       "      <td>1.000000</td>\n",
       "      <td>11.000000</td>\n",
       "      <td>72.000000</td>\n",
       "      <td>...</td>\n",
       "      <td>1.000000</td>\n",
       "      <td>1.000000</td>\n",
       "      <td>118.750000</td>\n",
       "      <td>8684.800000</td>\n",
       "      <td>49.790000</td>\n",
       "      <td>150.000000</td>\n",
       "      <td>3564.720000</td>\n",
       "      <td>11979.340000</td>\n",
       "      <td>5.000000</td>\n",
       "      <td>1.000000</td>\n",
       "    </tr>\n",
       "  </tbody>\n",
       "</table>\n",
       "<p>8 rows × 32 columns</p>\n",
       "</div>"
      ],
      "text/plain": [
       "               age     under_30  senior_citizen      married   dependents  \\\n",
       "count  7043.000000  7043.000000     7043.000000  7043.000000  7043.000000   \n",
       "mean     46.509726     0.198921        0.162147     0.483033     0.231010   \n",
       "std      16.750352     0.399217        0.368612     0.499748     0.421508   \n",
       "min      19.000000     0.000000        0.000000     0.000000     0.000000   \n",
       "25%      32.000000     0.000000        0.000000     0.000000     0.000000   \n",
       "50%      46.000000     0.000000        0.000000     0.000000     0.000000   \n",
       "75%      60.000000     0.000000        0.000000     1.000000     0.000000   \n",
       "max      80.000000     1.000000        1.000000     1.000000     1.000000   \n",
       "\n",
       "       number_of_dependents      zip_code  referred_a_friend  \\\n",
       "count           7043.000000   7043.000000        7043.000000   \n",
       "mean               0.468692  93486.070567           0.457476   \n",
       "std                0.962802   1856.767505           0.498224   \n",
       "min                0.000000  90001.000000           0.000000   \n",
       "25%                0.000000  92101.000000           0.000000   \n",
       "50%                0.000000  93518.000000           0.000000   \n",
       "75%                0.000000  95329.000000           1.000000   \n",
       "max                9.000000  96150.000000           1.000000   \n",
       "\n",
       "       number_of_referrals  tenure_in_months  ...  unlimited_data  \\\n",
       "count          7043.000000       7043.000000  ...     7043.000000   \n",
       "mean              1.951867         32.386767  ...        0.673719   \n",
       "std               3.001199         24.542061  ...        0.468885   \n",
       "min               0.000000          1.000000  ...        0.000000   \n",
       "25%               0.000000          9.000000  ...        0.000000   \n",
       "50%               0.000000         29.000000  ...        1.000000   \n",
       "75%               3.000000         55.000000  ...        1.000000   \n",
       "max              11.000000         72.000000  ...        1.000000   \n",
       "\n",
       "       paperless_billing  monthly_charge  total_charges  total_refunds  \\\n",
       "count        7043.000000     7043.000000    7043.000000    7043.000000   \n",
       "mean            0.592219       64.761692    2280.381264       1.962182   \n",
       "std             0.491457       30.090047    2266.220462       7.902614   \n",
       "min             0.000000       18.250000      18.800000       0.000000   \n",
       "25%             0.000000       35.500000     400.150000       0.000000   \n",
       "50%             1.000000       70.350000    1394.550000       0.000000   \n",
       "75%             1.000000       89.850000    3786.600000       0.000000   \n",
       "max             1.000000      118.750000    8684.800000      49.790000   \n",
       "\n",
       "       total_extra_data_charges  total_long_distance_charges  total_revenue  \\\n",
       "count               7043.000000                  7043.000000    7043.000000   \n",
       "mean                   6.860713                   749.099262    3034.379056   \n",
       "std                   25.104978                   846.660055    2865.204542   \n",
       "min                    0.000000                     0.000000      21.360000   \n",
       "25%                    0.000000                    70.545000     605.610000   \n",
       "50%                    0.000000                   401.440000    2108.640000   \n",
       "75%                    0.000000                  1191.100000    4801.145000   \n",
       "max                  150.000000                  3564.720000   11979.340000   \n",
       "\n",
       "       satisfaction_score  churn_label  \n",
       "count         7043.000000  7043.000000  \n",
       "mean             3.244924     0.265370  \n",
       "std              1.201657     0.441561  \n",
       "min              1.000000     0.000000  \n",
       "25%              3.000000     0.000000  \n",
       "50%              3.000000     0.000000  \n",
       "75%              4.000000     1.000000  \n",
       "max              5.000000     1.000000  \n",
       "\n",
       "[8 rows x 32 columns]"
      ]
     },
     "execution_count": 5,
     "metadata": {},
     "output_type": "execute_result"
    }
   ],
   "source": [
    "df.describe()"
   ]
  },
  {
   "cell_type": "code",
   "execution_count": 6,
   "metadata": {},
   "outputs": [
    {
     "ename": "NameError",
     "evalue": "name 'age' is not defined",
     "output_type": "error",
     "traceback": [
      "\u001b[1;31m---------------------------------------------------------------------------\u001b[0m",
      "\u001b[1;31mNameError\u001b[0m                                 Traceback (most recent call last)",
      "Cell \u001b[1;32mIn[6], line 1\u001b[0m\n\u001b[1;32m----> 1\u001b[0m numerical_variables \u001b[38;5;241m=\u001b[39m [\u001b[43mage\u001b[49m, ]\n",
      "\u001b[1;31mNameError\u001b[0m: name 'age' is not defined"
     ]
    }
   ],
   "source": [
    "numerical_variables = ['age', 'number_of_dependents', 'population', 'number_of_referrals', 'tenure_in_months', 'avg_monthly_long_distance_charges',\n",
    "                        'avg_monthly_gb_download', 'total_charges', 'total_refunds', 'total_extra_data_charges', 'total_long_distance_charges', \n",
    "                        'total_revenue', ]\n",
    "\n"
   ]
  },
  {
   "cell_type": "markdown",
   "metadata": {},
   "source": [
    "#### Exploratory Data Analysis\n",
    "- Analyzing distributions of all variables\n",
    "- Examining relationships between variables\n",
    "- Identifying any remaining data quality issues"
   ]
  },
  {
   "cell_type": "code",
   "execution_count": null,
   "metadata": {},
   "outputs": [],
   "source": []
  },
  {
   "cell_type": "markdown",
   "metadata": {},
   "source": [
    "#### Feature Selection\n",
    "\n",
    "- Using correlation analysis, statistical tests, and mutual information to identify potential confounders and important covariates\n",
    "- Domain knowledge to refine the selection\n",
    "- Considering creating interaction terms or new features"
   ]
  },
  {
   "cell_type": "markdown",
   "metadata": {},
   "source": [
    "#### Define Treatment and Outcome\n",
    "\n",
    "- Treatment variable (a specific intervention or customer characteristic)\n",
    "- Confirm 'churn_label' or 'churn_value' as outcome variable"
   ]
  },
  {
   "cell_type": "markdown",
   "metadata": {},
   "source": [
    "#### Split the Data\n",
    "\n",
    "- Dividing dataset into training and testing sets\n",
    "- Ensuring both sets are representative of the overall data"
   ]
  },
  {
   "cell_type": "markdown",
   "metadata": {},
   "source": [
    "#### Propensity Score Estimation\n",
    "\n",
    "- Using logistic regression to estimate propensity scores\n",
    "- Including all relevant covariates and potential confounders in the model\n",
    "- Evaluating the model's performance using appropriate metrics"
   ]
  },
  {
   "cell_type": "markdown",
   "metadata": {},
   "source": [
    "#### Matching\n",
    "\n",
    "- Implementing a matching algorithm (nearest neighbor, caliper matching)\n",
    "- Match treated units to control units based on propensity scores\n",
    "- Determine the appropriate matching ratio (1:1, 1:n, or variable ratio)"
   ]
  },
  {
   "cell_type": "markdown",
   "metadata": {},
   "source": [
    "#### Balance Assessment\n",
    "\n",
    "- Checking covariate balance between matched groups\n",
    "- Using standardized mean differences and statistical tests\n",
    "- Visualizing balance using plots (love plots)"
   ]
  },
  {
   "cell_type": "markdown",
   "metadata": {},
   "source": [
    "#### Treatment Effect Estimation\n",
    "\n",
    "- Calculating the Average Treatment Effect on the Treated (ATT)\n",
    "- Using appropriate statistical methods (regression adjustment on matched data)\n",
    "- Considering doubly robust estimation methods"
   ]
  },
  {
   "cell_type": "markdown",
   "metadata": {},
   "source": [
    "#### Sensitivity Analysis\n",
    "\n",
    "- Performing Rosenbaum bounds analysis\n",
    "- Conducting E-value calculations\n",
    "- Testing different matching algorithms and parameters"
   ]
  },
  {
   "cell_type": "markdown",
   "metadata": {},
   "source": [
    "#### Subgroup Analysis\n",
    "\n",
    "- Investigating heterogeneous treatment effects across customer segments\n",
    "- Using methods like causal trees or causal forests"
   ]
  },
  {
   "cell_type": "markdown",
   "metadata": {},
   "source": [
    "#### Model Validation\n",
    "\n",
    "- Implementing cross-validation techniques\n",
    "- Assessing model performance on the test set"
   ]
  }
 ],
 "metadata": {
  "kernelspec": {
   "display_name": "Python 3",
   "language": "python",
   "name": "python3"
  },
  "language_info": {
   "codemirror_mode": {
    "name": "ipython",
    "version": 3
   },
   "file_extension": ".py",
   "mimetype": "text/x-python",
   "name": "python",
   "nbconvert_exporter": "python",
   "pygments_lexer": "ipython3",
   "version": "3.12.0"
  }
 },
 "nbformat": 4,
 "nbformat_minor": 2
}
